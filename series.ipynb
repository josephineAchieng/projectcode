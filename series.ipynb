{
 "cells": [
  {
   "cell_type": "code",
   "execution_count": 1,
   "id": "c925a325-63c4-4193-b598-762c248688d8",
   "metadata": {},
   "outputs": [],
   "source": [
    "first=\"Joy\"\n",
    "second=\"Achieng\""
   ]
  },
  {
   "cell_type": "code",
   "execution_count": 7,
   "id": "2d9e6cc1-3390-4445-a180-350ef3a8f09c",
   "metadata": {},
   "outputs": [
    {
     "data": {
      "text/plain": [
       "'Joy Achieng'"
      ]
     },
     "execution_count": 7,
     "metadata": {},
     "output_type": "execute_result"
    }
   ],
   "source": [
    "first+\" \"+second"
   ]
  },
  {
   "cell_type": "code",
   "execution_count": 9,
   "id": "8603ee28-2ceb-455d-a353-4566f368c95b",
   "metadata": {},
   "outputs": [
    {
     "data": {
      "text/plain": [
       "'JoyJoyJoy'"
      ]
     },
     "execution_count": 9,
     "metadata": {},
     "output_type": "execute_result"
    }
   ],
   "source": [
    "first*3"
   ]
  },
  {
   "cell_type": "code",
   "execution_count": 11,
   "id": "98556083-bd01-4be1-8687-a4c39d31500f",
   "metadata": {},
   "outputs": [
    {
     "data": {
      "text/plain": [
       "'AchiengAchiengAchiengAchiengAchieng'"
      ]
     },
     "execution_count": 11,
     "metadata": {},
     "output_type": "execute_result"
    }
   ],
   "source": [
    "second*5"
   ]
  },
  {
   "cell_type": "code",
   "execution_count": 17,
   "id": "1ceb9b0f-8f94-4f33-b2f5-dc84aa1d953f",
   "metadata": {},
   "outputs": [
    {
     "data": {
      "text/plain": [
       "'JoyJoyJoyAchiengAchieng'"
      ]
     },
     "execution_count": 17,
     "metadata": {},
     "output_type": "execute_result"
    }
   ],
   "source": [
    "first*3+ second*2"
   ]
  },
  {
   "cell_type": "code",
   "execution_count": 19,
   "id": "930cb8a2-2252-47d6-b51a-996a6d5acddd",
   "metadata": {},
   "outputs": [],
   "source": [
    "x=\"hellow world\""
   ]
  },
  {
   "cell_type": "code",
   "execution_count": 39,
   "id": "4f8610ed-3b00-4e5c-8418-e30c215f5192",
   "metadata": {},
   "outputs": [
    {
     "data": {
      "text/plain": [
       "'o'"
      ]
     },
     "execution_count": 39,
     "metadata": {},
     "output_type": "execute_result"
    }
   ],
   "source": [
    "x [4]"
   ]
  },
  {
   "cell_type": "code",
   "execution_count": 29,
   "id": "416a3cdc-50c4-439b-bd3a-ed4dc2ab2cde",
   "metadata": {},
   "outputs": [],
   "source": [
    "second=\"achieng\""
   ]
  },
  {
   "cell_type": "code",
   "execution_count": 31,
   "id": "42dfc1ee-e223-4472-91b4-1986a6396a03",
   "metadata": {},
   "outputs": [
    {
     "data": {
      "text/plain": [
       "'a'"
      ]
     },
     "execution_count": 31,
     "metadata": {},
     "output_type": "execute_result"
    }
   ],
   "source": [
    "second[0]"
   ]
  },
  {
   "cell_type": "code",
   "execution_count": 41,
   "id": "4e750bf4-12a1-4db0-9230-f163a18e6f7c",
   "metadata": {},
   "outputs": [
    {
     "data": {
      "text/plain": [
       "'i'"
      ]
     },
     "execution_count": 41,
     "metadata": {},
     "output_type": "execute_result"
    }
   ],
   "source": [
    "second[3]"
   ]
  },
  {
   "cell_type": "code",
   "execution_count": 53,
   "id": "65ce702f-29c6-44c8-98e5-4bfbc3455919",
   "metadata": {},
   "outputs": [
    {
     "data": {
      "text/plain": [
       "'Joy achieng'"
      ]
     },
     "execution_count": 53,
     "metadata": {},
     "output_type": "execute_result"
    }
   ],
   "source": [
    "fullname=first+\" \"+second\n",
    "fullname"
   ]
  },
  {
   "cell_type": "markdown",
   "id": "6877b1d5-376e-4119-a907-7be486ede394",
   "metadata": {},
   "source": [
    "fullname[0.6]"
   ]
  },
  {
   "cell_type": "code",
   "execution_count": 57,
   "id": "fcec8d8c-b34d-4c6c-9316-6405859387bc",
   "metadata": {},
   "outputs": [
    {
     "data": {
      "text/plain": [
       "'josephine'"
      ]
     },
     "execution_count": 57,
     "metadata": {},
     "output_type": "execute_result"
    }
   ],
   "source": [
    "fullname=\"josephine achieng\"\n",
    "fullname[0:9]"
   ]
  },
  {
   "cell_type": "markdown",
   "id": "90c7b9cd-9c87-4304-958b-d35f0b66eb75",
   "metadata": {},
   "source": [
    "name=input(\"Enterfirst name\")"
   ]
  },
  {
   "cell_type": "code",
   "execution_count": 60,
   "id": "80ca6852-a645-4b89-a007-59cd0ea470d8",
   "metadata": {},
   "outputs": [
    {
     "name": "stdin",
     "output_type": "stream",
     "text": [
      "Enter first name joy\n"
     ]
    }
   ],
   "source": [
    "name=input(\"Enter first name\")"
   ]
  },
  {
   "cell_type": "code",
   "execution_count": 62,
   "id": "1a6aae95-e7cd-4850-a9fe-7408662cdd7c",
   "metadata": {},
   "outputs": [
    {
     "name": "stdout",
     "output_type": "stream",
     "text": [
      "joy\n"
     ]
    }
   ],
   "source": [
    "print(name)"
   ]
  },
  {
   "cell_type": "code",
   "execution_count": 70,
   "id": "33451f9f-83dc-4a19-af46-735fef594bcc",
   "metadata": {},
   "outputs": [
    {
     "name": "stdout",
     "output_type": "stream",
     "text": [
      "0\n",
      "1\n",
      "2\n",
      "3\n",
      "4\n",
      "5\n",
      "6\n",
      "7\n",
      "8\n",
      "9\n",
      "10\n"
     ]
    }
   ],
   "source": [
    "for i in range(11):\n",
    "    print(i)"
   ]
  },
  {
   "cell_type": "code",
   "execution_count": 74,
   "id": "f437b0e2-5ade-4769-b348-39b69db379c3",
   "metadata": {},
   "outputs": [
    {
     "name": "stdout",
     "output_type": "stream",
     "text": [
      "j\n",
      "o\n",
      "s\n",
      "e\n",
      "p\n",
      "h\n",
      "i\n",
      "n\n",
      "e\n",
      " \n",
      "a\n",
      "c\n",
      "h\n",
      "i\n",
      "e\n",
      "n\n",
      "g\n"
     ]
    }
   ],
   "source": [
    "for oy in fullname:\n",
    "    print(oy)"
   ]
  },
  {
   "cell_type": "code",
   "execution_count": 86,
   "id": "7bf632fa-a1f2-4d73-9f9f-3a15313bc705",
   "metadata": {},
   "outputs": [
    {
     "name": "stdout",
     "output_type": "stream",
     "text": [
      "0\n",
      "5\n",
      "10\n",
      "15\n"
     ]
    }
   ],
   "source": [
    "for h in range(0,20,5):\n",
    "    print(h)\n",
    "    \n",
    " "
   ]
  },
  {
   "cell_type": "code",
   "execution_count": 88,
   "id": "ef0ec8ab-b5a9-4c63-b791-dd0908fc38d0",
   "metadata": {},
   "outputs": [
    {
     "name": "stdout",
     "output_type": "stream",
     "text": [
      "0\n",
      "10\n",
      "20\n",
      "30\n",
      "40\n",
      "50\n",
      "60\n",
      "70\n",
      "80\n",
      "90\n"
     ]
    }
   ],
   "source": [
    "for n in range(0,100,10):\n",
    "    print(n)"
   ]
  },
  {
   "cell_type": "code",
   "execution_count": 11,
   "id": "acaa8166-7fee-47bf-8f4f-62e24960fe0a",
   "metadata": {},
   "outputs": [
    {
     "name": "stdout",
     "output_type": "stream",
     "text": [
      "1,\n",
      " 1\n",
      "2,\n",
      " 3\n",
      "3,\n",
      " 6\n",
      "4,\n",
      " 10\n",
      "5,\n",
      " 15\n",
      "6,\n",
      " 21\n",
      "7,\n",
      " 28\n",
      "8,\n",
      " 36\n",
      "9,\n",
      " 45\n",
      "10,\n",
      " 55\n"
     ]
    }
   ],
   "source": [
    "#1,2,3,4,5,6,7,8,9,10\n",
    "total=0\n",
    "\n",
    "for y in range(1,11):\n",
    "    total+=y\n",
    "    print(y,end=\",\")\n",
    "    \n",
    "    print('\\n',total)"
   ]
  },
  {
   "cell_type": "code",
   "execution_count": null,
   "id": "55869c0c-8d58-436d-8412-6ddf22c59fa0",
   "metadata": {},
   "outputs": [],
   "source": []
  },
  {
   "cell_type": "code",
   "execution_count": 13,
   "id": "c60508ad-0b66-42c6-b7f2-97306b047951",
   "metadata": {},
   "outputs": [
    {
     "name": "stdout",
     "output_type": "stream",
     "text": [
      "1,2,3,4,5,6,7,8,9,10,55\n"
     ]
    }
   ],
   "source": [
    "total =0\n",
    "for x in range(1,11):\n",
    "    total = total + x\n",
    "    print(x , end =\",\")\n",
    "print(total)"
   ]
  },
  {
   "cell_type": "code",
   "execution_count": 15,
   "id": "01bffdff-994e-459f-8c7c-b2c107a8ffcc",
   "metadata": {},
   "outputs": [
    {
     "name": "stdin",
     "output_type": "stream",
     "text": [
      "Enter age 56\n",
      "Enter Age 78\n",
      "Enter age 45\n",
      "Enter age 34\n"
     ]
    },
    {
     "name": "stdout",
     "output_type": "stream",
     "text": [
      "213 53.25\n"
     ]
    }
   ],
   "source": [
    "x=int(input(\"Enter age\"))\n",
    "y=int(input(\"Enter Age\"))\n",
    "z=int(input(\"Enter age\"))\n",
    "xy=int(input(\"Enter age\")) \n",
    "total=x+y+z+xy\n",
    "average=total/4\n",
    "\n",
    "print(total,average)"
   ]
  },
  {
   "cell_type": "code",
   "execution_count": 29,
   "id": "a20abc7e-7d17-4e11-a95c-fd5d3818736d",
   "metadata": {},
   "outputs": [
    {
     "name": "stdin",
     "output_type": "stream",
     "text": [
      "Enter Age 10\n",
      "Enter Age 12\n",
      "Enter Age 34\n",
      "Enter Age 23\n"
     ]
    },
    {
     "name": "stdout",
     "output_type": "stream",
     "text": [
      "\n",
      " 79 19.75\n"
     ]
    }
   ],
   "source": [
    "total=0\n",
    "for x in range(4):\n",
    "    x=int(input(\"Enter Age\"))\n",
    "    total +=x\n",
    "    print (x)\n",
    "\n",
    "print('\\n', total,total/4)"
   ]
  },
  {
   "cell_type": "markdown",
   "id": "0746d39e-4dcb-4e27-baa4-1d6e62a19487",
   "metadata": {},
   "source": [
    " #2,4,6,8,10\n",
    " for x in range(2,11,2):\n",
    " print(x,end=\",\")\n",
    " "
   ]
  },
  {
   "cell_type": "code",
   "execution_count": 42,
   "id": "14676f3e-798a-40cf-9103-59036f652237",
   "metadata": {},
   "outputs": [
    {
     "name": "stdin",
     "output_type": "stream",
     "text": [
      "Enter score 4\n",
      "Enter score 4\n",
      "Enter score 3\n",
      "Enter score 4\n",
      "Enter score 3\n"
     ]
    },
    {
     "name": "stdout",
     "output_type": "stream",
     "text": [
      "18 3.6\n"
     ]
    }
   ],
   "source": [
    "total=0\n",
    "for y in range(5):\n",
    "    y=int(input (\"Enter score\"))\n",
    "    total=total+y\n",
    "    average=total/5\n",
    "\n",
    "\n",
    "print(total,average)"
   ]
  },
  {
   "cell_type": "code",
   "execution_count": 48,
   "id": "af8488c9-1678-476c-baaf-f5257d8c16b3",
   "metadata": {},
   "outputs": [
    {
     "name": "stdin",
     "output_type": "stream",
     "text": [
      "Enter Age 2\n",
      "Enter Age 3\n",
      "Enter Age 8\n",
      "Enter Age 1\n"
     ]
    },
    {
     "name": "stdout",
     "output_type": "stream",
     "text": [
      "3.5\n"
     ]
    }
   ],
   "source": [
    "count=0\n",
    "total=0\n",
    "while count <4:\n",
    "    x=int(input(\"Enter Age\"))\n",
    "    total +=x\n",
    "    count +=1\n",
    "\n",
    "print(total/count)\n"
   ]
  },
  {
   "cell_type": "code",
   "execution_count": 11,
   "id": "55e0996c-62c8-4b07-ac7c-439842885c89",
   "metadata": {},
   "outputs": [
    {
     "name": "stdout",
     "output_type": "stream",
     "text": [
      "E\n"
     ]
    }
   ],
   "source": [
    "score=30\n",
    "if score>=80:\n",
    "    print(\"A\")\n",
    "elif score>=80:\n",
    "    print(\"B\")\n",
    "elif score>=70:\n",
    "    print(\"C\")\n",
    "elif score>=60:\n",
    "    print(\"D\")\n",
    "else:\n",
    "    print(\"E\")\n",
    "    \n"
   ]
  },
  {
   "cell_type": "code",
   "execution_count": 85,
   "id": "ba470204-6501-467c-8359-29b24d5d6d43",
   "metadata": {},
   "outputs": [
    {
     "name": "stdin",
     "output_type": "stream",
     "text": [
      "Name kil\n",
      "Name kil\n",
      "Name jpy\n",
      "Name jpy\n",
      "Name joy\n"
     ]
    }
   ],
   "source": [
    "check=True\n",
    "while check:\n",
    "    name= input(\"Name\")\n",
    "    if\"joy\" in name:\n",
    "        check=False\n"
   ]
  },
  {
   "cell_type": "code",
   "execution_count": 13,
   "id": "c186123d-422d-4ece-8b25-bf2183506e64",
   "metadata": {},
   "outputs": [
    {
     "name": "stdin",
     "output_type": "stream",
     "text": [
      "Name bram\n",
      "Name Geli\n",
      "Name joy\n",
      "Name lida\n"
     ]
    }
   ],
   "source": [
    "check=True\n",
    "while check:\n",
    "    name=input(\"Name\")\n",
    "    if\"Lida\" in name or 'lida' in name:\n",
    "        check = False"
   ]
  },
  {
   "cell_type": "code",
   "execution_count": null,
   "id": "b58bdc21-3e70-4d15-aebc-e6edfa5d1a1a",
   "metadata": {},
   "outputs": [],
   "source": [
    "def family():\n",
    "    print(\"family"
   ]
  }
 ],
 "metadata": {
  "kernelspec": {
   "display_name": "Python 3 (ipykernel)",
   "language": "python",
   "name": "python3"
  },
  "language_info": {
   "codemirror_mode": {
    "name": "ipython",
    "version": 3
   },
   "file_extension": ".py",
   "mimetype": "text/x-python",
   "name": "python",
   "nbconvert_exporter": "python",
   "pygments_lexer": "ipython3",
   "version": "3.12.4"
  }
 },
 "nbformat": 4,
 "nbformat_minor": 5
}
